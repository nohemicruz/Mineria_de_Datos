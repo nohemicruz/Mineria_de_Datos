{
 "cells": [
  {
   "cell_type": "code",
   "execution_count": 45,
   "metadata": {},
   "outputs": [
    {
     "data": {
      "text/plain": [
       "44"
      ]
     },
     "execution_count": 45,
     "metadata": {},
     "output_type": "execute_result"
    }
   ],
   "source": [
    "#EJERCICIO 1\n",
    "#Imprime la sumatoria de todos los elementos.\n",
    "a = [3, 2, 7, 4, 12, 9, 6, 1]\n",
    "suma= 0\n",
    "for elemento in a:\n",
    "    suma += elemento\n",
    "suma"
   ]
  },
  {
   "cell_type": "code",
   "execution_count": 20,
   "metadata": {},
   "outputs": [
    {
     "data": {
      "text/plain": [
       "[12, 9, 7, 6, 4, 3, 2, 1]"
      ]
     },
     "execution_count": 20,
     "metadata": {},
     "output_type": "execute_result"
    }
   ],
   "source": [
    "#EJERCICIO 1\n",
    "#Ordenalos de mayor a menor.\n",
    "a = [3, 2, 7, 4, 12, 9, 6, 1]\n",
    "a.sort()\n",
    "a.reverse()\n",
    "a"
   ]
  },
  {
   "cell_type": "code",
   "execution_count": 22,
   "metadata": {},
   "outputs": [
    {
     "data": {
      "text/plain": [
       "[2, 4, 12, 6]"
      ]
     },
     "execution_count": 22,
     "metadata": {},
     "output_type": "execute_result"
    }
   ],
   "source": [
    "#EJERCICIO 1\n",
    "#Haz una nueva lista pero solo con sus elementos pares.\n",
    "a = [3, 2, 7, 4, 12, 9, 6, 1]\n",
    "nueva=[]\n",
    "for i in a:\n",
    "    res=i%2\n",
    "    if res==0:\n",
    "        nueva.append(i)\n",
    "nueva"
   ]
  },
  {
   "cell_type": "code",
   "execution_count": 25,
   "metadata": {},
   "outputs": [
    {
     "name": "stdout",
     "output_type": "stream",
     "text": [
      "7\n",
      "3\n",
      "25\n",
      "1\n",
      "2.5\n"
     ]
    }
   ],
   "source": [
    "#EJERCICIO 2\n",
    "n1=5\n",
    "n2=2\n",
    "def suma(n1,n2):\n",
    "    return n1+n2\n",
    "def resta(n1,n2):\n",
    "    return n1-n2\n",
    "def potencia(n1,n2):\n",
    "    return n1**n2\n",
    "def residuo(n1,n2):\n",
    "    return n1%n2\n",
    "def division(n1,n2):\n",
    "    return n1/n2\n",
    "print(suma(n1,n2))\n",
    "print(resta(n1,n2))\n",
    "print(potencia(n1,n2))\n",
    "print(residuo(n1,n2))\n",
    "print(division(n1,n2))\n"
   ]
  },
  {
   "cell_type": "code",
   "execution_count": 34,
   "metadata": {},
   "outputs": [
    {
     "data": {
      "text/plain": [
       "[2, 4, 12, 6, 16, 34, 18, 10]"
      ]
     },
     "execution_count": 34,
     "metadata": {},
     "output_type": "execute_result"
    }
   ],
   "source": [
    "#EJERCICIO 3\n",
    "a = [3, 2, 7, 4, 12, 9, 6, 1]\n",
    "b = [13, 16, 21, 34, 18, 17, 11, 10]\n",
    "newlist=[]\n",
    "for i in a:\n",
    "    res=i%2\n",
    "    if res==0:\n",
    "        newlist.append(i)\n",
    "for i in b:\n",
    "    res=i%2\n",
    "    if res==0:\n",
    "        newlist.append(i)\n",
    "newlist"
   ]
  },
  {
   "cell_type": "code",
   "execution_count": 39,
   "metadata": {},
   "outputs": [
    {
     "name": "stdout",
     "output_type": "stream",
     "text": [
      "ADULTO\n",
      "NIÑO\n",
      "ADOLECENTE\n",
      "ADULTO MAYOR\n"
     ]
    }
   ],
   "source": [
    "#EJERCICIO 4\n",
    "def edad(edad):\n",
    "    \n",
    "    if edad<14:\n",
    "        print(\"NIÑO\")\n",
    "    elif edad>14 and edad<20:\n",
    "        print(\"ADOLECENTE\")\n",
    "    elif edad>20 and edad<60:\n",
    "        print(\"ADULTO\")\n",
    "    elif edad>60:\n",
    "        print(\"ADULTO MAYOR\")\n",
    "W = 11\n",
    "X = 17\n",
    "Y = 32\n",
    "Z = 65\n",
    "\n",
    "edad(Y)\n",
    "edad(W)\n",
    "edad(X)\n",
    "edad(Z)\n"
   ]
  },
  {
   "cell_type": "code",
   "execution_count": 41,
   "metadata": {},
   "outputs": [
    {
     "name": "stdout",
     "output_type": "stream",
     "text": [
      "\t\n",
      "1 \t\n",
      "2 2 \t\n",
      "3 3 3 \t\n",
      "4 4 4 4 \t\n",
      "5 5 5 5 5 \t\n"
     ]
    }
   ],
   "source": [
    "#EJERCICIO 5\n",
    "for i in range(6):\n",
    "    acum=i\n",
    "    for i in range(i):\n",
    "        print (acum, end=\" \")\n",
    "    print(\"\\t\")\n"
   ]
  },
  {
   "cell_type": "code",
   "execution_count": 43,
   "metadata": {},
   "outputs": [
    {
     "name": "stdout",
     "output_type": "stream",
     "text": [
      "5 4 3 2 1 \t\n",
      "4 3 2 1 \t\n",
      "3 2 1 \t\n",
      "2 1 \t\n",
      "1 \t\n"
     ]
    }
   ],
   "source": [
    "#EJERCICIO 5\n",
    "acum=6\n",
    "for i in range(5):\n",
    "    aux=acum\n",
    "    acum=acum-1\n",
    "    for i in range(5-i):\n",
    "        aux=aux-1\n",
    "        print (aux, end=\" \")\n",
    "    print(\"\\t\")"
   ]
  },
  {
   "cell_type": "code",
   "execution_count": 44,
   "metadata": {},
   "outputs": [
    {
     "data": {
      "text/plain": [
       "[9, 4, 49, 16, 144, 81, 36, 1]"
      ]
     },
     "execution_count": 44,
     "metadata": {},
     "output_type": "execute_result"
    }
   ],
   "source": [
    "#EJERCICIO 6\n",
    "a = [3, 2, 7, 4, 12, 9, 6, 1]\n",
    "newlist=[]\n",
    "for i in a:\n",
    "    ele=pow(i,2)\n",
    "    newlist.append(ele)\n",
    "    \n",
    "newlist\n"
   ]
  },
  {
   "cell_type": "code",
   "execution_count": null,
   "metadata": {},
   "outputs": [],
   "source": [
    "#EJERCICIO 7\n",
    "#Respuesta 1:for, in, print  \n",
    "#Respuesta 2: la principal diferencia es que las listas son mutables y las tuplas no \n",
    "#Respuesta 3: para enlasar varios else if."
   ]
  }
 ],
 "metadata": {
  "kernelspec": {
   "display_name": "Python 3",
   "language": "python",
   "name": "python3"
  },
  "language_info": {
   "codemirror_mode": {
    "name": "ipython",
    "version": 3
   },
   "file_extension": ".py",
   "mimetype": "text/x-python",
   "name": "python",
   "nbconvert_exporter": "python",
   "pygments_lexer": "ipython3",
   "version": "3.7.4"
  }
 },
 "nbformat": 4,
 "nbformat_minor": 4
}
